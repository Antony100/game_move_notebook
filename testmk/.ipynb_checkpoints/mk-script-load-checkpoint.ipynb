{
 "cells": [
  {
   "cell_type": "code",
   "execution_count": 33,
   "metadata": {},
   "outputs": [],
   "source": [
    "import csv"
   ]
  },
  {
   "cell_type": "code",
   "execution_count": 23,
   "metadata": {},
   "outputs": [],
   "source": [
    "def run():\n",
    "    fhand = open('/home/tony/code/test_mk/Baraka-mod.csv')\n",
    "    reader = csv.reader(fhand)\n",
    "\n",
    "    for row in reader:\n",
    "        print(row)\n"
   ]
  },
  {
   "cell_type": "code",
   "execution_count": 34,
   "metadata": {},
   "outputs": [],
   "source": [
    "def dict_run():   \n",
    "    file_name = '/home/tony/code/test_mk/Baraka-mod.csv'\n",
    "\n",
    "    with open(file_name) as csvfile:\n",
    "        reader = csv.DictReader(csvfile)\n",
    "        \n",
    "        for row in reader:\n",
    "            print(row)"
   ]
  },
  {
   "cell_type": "code",
   "execution_count": 35,
   "metadata": {},
   "outputs": [
    {
     "name": "stdout",
     "output_type": "stream",
     "text": [
      "OrderedDict([('Move', 'Spiked Cross'), ('Input', '1'), ('Type', 'High'), ('Dmg', '2'), ('Block dmg', '0,3'), ('F/Block dmg', '0,0003'), ('Startup', '7'), ('Active', '2'), ('Recovery', '18'), ('Cancel adv.', '14'), ('Hit adv.', '16'), ('Block adv.', '-3'), ('F/Block adv.', '-3'), ('Info', ''), ('Equip', ''), ('Classification', 'Basic Attack')])\n",
      "OrderedDict([('Move', 'Low Stab'), ('Input', 'D+1'), ('Type', 'Mid'), ('Dmg', '2'), ('Block dmg', '0,3'), ('F/Block dmg', '0,0003'), ('Startup', '7'), ('Active', '2'), ('Recovery', '13'), ('Cancel adv.', '11'), ('Hit adv.', '10'), ('Block adv.', '-3'), ('F/Block adv.', '-3'), ('Info', ''), ('Equip', ''), ('Classification', 'Basic Attack')])\n",
      "OrderedDict([('Move', 'Straight Shank'), ('Input', 'D+F+1'), ('Type', 'Mid'), ('Dmg', '2'), ('Block dmg', '0,3'), ('F/Block dmg', '0,0003'), ('Startup', '8'), ('Active', '2'), ('Recovery', '13'), ('Cancel adv.', '12'), ('Hit adv.', '17'), ('Block adv.', '-3'), ('F/Block adv.', '-3'), ('Info', ''), ('Equip', 'Requires: Baraka Barrage'), ('Classification', 'Basic Attack')])\n",
      "OrderedDict([('Move', 'Warrior Strike'), ('Input', '2'), ('Type', 'High'), ('Dmg', '3'), ('Block dmg', '0,45'), ('F/Block dmg', '0,0005'), ('Startup', '10'), ('Active', '2'), ('Recovery', '24'), ('Cancel adv.', '16'), ('Hit adv.', '6'), ('Block adv.', '-9'), ('F/Block adv.', '-9'), ('Info', ''), ('Equip', ''), ('Classification', 'Basic Attack')])\n",
      "OrderedDict([('Move', 'Lunging Blades'), ('Input', 'B+2'), ('Type', 'Overhead'), ('Dmg', '7'), ('Block dmg', '1,05'), ('F/Block dmg', '0,0011'), ('Startup', '28'), ('Active', '3'), ('Recovery', '29'), ('Cancel adv.', 'N/A'), ('Hit adv.', '38'), ('Block adv.', '-5'), ('F/Block adv.', '-10'), ('Info', ''), ('Equip', ''), ('Classification', 'Basic Attack')])\n",
      "OrderedDict([('Move', 'Blade Swipe'), ('Input', 'F+2'), ('Type', 'High'), ('Dmg', '5'), ('Block dmg', '0,75'), ('F/Block dmg', '0,0008'), ('Startup', '8'), ('Active', '2'), ('Recovery', '34'), ('Cancel adv.', '13'), ('Hit adv.', '11'), ('Block adv.', '-9'), ('F/Block adv.', '-9'), ('Info', ''), ('Equip', ''), ('Classification', 'Basic Attack')])\n",
      "OrderedDict([('Move', 'Rising Blades'), ('Input', 'D+2'), ('Type', 'High'), ('Dmg', '14'), ('Block dmg', '2,1'), ('F/Block dmg', '0,0021'), ('Startup', '10'), ('Active', '3'), ('Recovery', '41'), ('Cancel adv.', 'N/A'), ('Hit adv.', '30'), ('Block adv.', '-7'), ('F/Block adv.', '-17'), ('Info', 'KRUSHING BLOW: Triggers if this ATTACK KOUNTERS or PUNISHES a HIGH ATTACK.'), ('Equip', ''), ('Classification', 'Basic Attack')])\n",
      "OrderedDict([('Move', 'Hinge Kick'), ('Input', '3'), ('Type', 'High'), ('Dmg', '5'), ('Block dmg', '0,75'), ('F/Block dmg', '0,0008'), ('Startup', '10'), ('Active', '2'), ('Recovery', '32'), ('Cancel adv.', '17'), ('Hit adv.', '10'), ('Block adv.', '-7'), ('F/Block adv.', '-7'), ('Info', ''), ('Equip', ''), ('Classification', 'Basic Attack')])\n",
      "OrderedDict([('Move', 'Foot Stomp'), ('Input', 'B+3'), ('Type', 'Low'), ('Dmg', '3'), ('Block dmg', '0,45'), ('F/Block dmg', '0,0005'), ('Startup', '14'), ('Active', '2'), ('Recovery', '22'), ('Cancel adv.', '18'), ('Hit adv.', '14'), ('Block adv.', '-7'), ('F/Block adv.', '-7'), ('Info', ''), ('Equip', ''), ('Classification', 'Basic Attack')])\n",
      "OrderedDict([('Move', 'Low Poke'), ('Input', 'D+3'), ('Type', 'Low'), ('Dmg', '1'), ('Block dmg', '0,15'), ('F/Block dmg', '0,0002'), ('Startup', '7'), ('Active', '3'), ('Recovery', '13'), ('Cancel adv.', '13'), ('Hit adv.', '14'), ('Block adv.', '-4'), ('F/Block adv.', '-4'), ('Info', ''), ('Equip', ''), ('Classification', 'Basic Attack')])\n",
      "OrderedDict([('Move', 'Low Shank'), ('Input', 'D+F+3'), ('Type', 'Low'), ('Dmg', '1'), ('Block dmg', '0,15'), ('F/Block dmg', '0,0002'), ('Startup', '8'), ('Active', '2'), ('Recovery', '14'), ('Cancel adv.', '15'), ('Hit adv.', '11'), ('Block adv.', '-4'), ('F/Block adv.', '-4'), ('Info', ''), ('Equip', 'Requires: Baraka Barrage'), ('Classification', 'Basic Attack')])\n",
      "OrderedDict([('Move', 'Big Leg'), ('Input', '4'), ('Type', 'High'), ('Dmg', '7'), ('Block dmg', '1,05'), ('F/Block dmg', '0,0011'), ('Startup', '10'), ('Active', '2'), ('Recovery', '21'), ('Cancel adv.', '11'), ('Hit adv.', '15'), ('Block adv.', '4'), ('F/Block adv.', '4'), ('Info', ''), ('Equip', ''), ('Classification', 'Basic Attack')])\n",
      "OrderedDict([('Move', 'Leg Chop'), ('Input', 'B+4'), ('Type', 'Low'), ('Dmg', '7'), ('Block dmg', '1,05'), ('F/Block dmg', '0,0011'), ('Startup', '14'), ('Active', '2'), ('Recovery', '22'), ('Cancel adv.', 'N/A'), ('Hit adv.', '27'), ('Block adv.', '-2'), ('F/Block adv.', '-7'), ('Info', ''), ('Equip', ''), ('Classification', 'Basic Attack')])\n",
      "OrderedDict([('Move', 'Knee Lunge'), ('Input', 'F+4'), ('Type', 'Mid'), ('Dmg', '5'), ('Block dmg', '0,75'), ('F/Block dmg', '0,0008'), ('Startup', '12'), ('Active', '5'), ('Recovery', '24'), ('Cancel adv.', '18'), ('Hit adv.', '3'), ('Block adv.', '-2'), ('F/Block adv.', '-2'), ('Info', ''), ('Equip', ''), ('Classification', 'Basic Attack')])\n",
      "OrderedDict([('Move', 'Side Kick'), ('Input', 'D+4'), ('Type', 'Low'), ('Dmg', '3'), ('Block dmg', '0,45'), ('F/Block dmg', '0,0005'), ('Startup', '15'), ('Active', '2'), ('Recovery', '14'), ('Cancel adv.', '17'), ('Hit adv.', '25'), ('Block adv.', '1'), ('F/Block adv.', '1'), ('Info', ''), ('Equip', ''), ('Classification', 'Basic Attack')])\n",
      "OrderedDict([('Move', 'Hangry Jab'), ('Input', '1'), ('Type', 'Mid'), ('Dmg', '5'), ('Block dmg', '0,75'), ('F/Block dmg', '0,0008'), ('Startup', '8'), ('Active', '6'), ('Recovery', '31'), ('Cancel adv.', 'N/A'), ('Hit adv.', '-1'), ('Block adv.', '-13'), ('F/Block adv.', '-13'), ('Info', ''), ('Equip', ''), ('Classification', 'Jumping Attack')])\n",
      "OrderedDict([('Move', 'Sinister Shank'), ('Input', 'D+1'), ('Type', 'Mid'), ('Dmg', '5'), ('Block dmg', '0,75'), ('F/Block dmg', '0,0008'), ('Startup', '8'), ('Active', '6'), ('Recovery', '16'), ('Cancel adv.', 'N/A'), ('Hit adv.', '7'), ('Block adv.', '-5'), ('F/Block adv.', '-5'), ('Info', ''), ('Equip', 'Requires: Baraka Barrage'), ('Classification', 'Jumping Attack')])\n",
      "OrderedDict([('Move', 'Sinister Slice'), ('Input', '2'), ('Type', 'Mid'), ('Dmg', '7'), ('Block dmg', '1,05'), ('F/Block dmg', '0,0011'), ('Startup', '7'), ('Active', '2'), ('Recovery', '31'), ('Cancel adv.', 'N/A'), ('Hit adv.', '9'), ('Block adv.', '-3'), ('F/Block adv.', '-8'), ('Info', ''), ('Equip', ''), ('Classification', 'Jumping Attack')])\n",
      "OrderedDict([('Move', 'Dropkick'), ('Input', '3\\xa0or\\xa04'), ('Type', 'Mid'), ('Dmg', '9'), ('Block dmg', '1,35'), ('F/Block dmg', '0,0014'), ('Startup', '8'), ('Active', '7'), ('Recovery', '31'), ('Cancel adv.', 'N/A'), ('Hit adv.', '27'), ('Block adv.', '-8'), ('F/Block adv.', '-13'), ('Info', ''), ('Equip', ''), ('Classification', 'Jumping Attack')])\n",
      "OrderedDict([('Move', 'Bladed Doom'), ('Input', 'U,1\\xa0or\\xa0U,2'), ('Type', 'Overhead'), ('Dmg', '9'), ('Block dmg', '1,35'), ('F/Block dmg', '0,0014'), ('Startup', '9'), ('Active', '5'), ('Recovery', '29'), ('Cancel adv.', 'N/A'), ('Hit adv.', '38'), ('Block adv.', '-12'), ('F/Block adv.', '-17'), ('Info', ''), ('Equip', ''), ('Classification', 'Hop Attack')])\n",
      "OrderedDict([('Move', 'Karbrac Kick'), ('Input', 'U,3\\xa0or\\xa0U,4'), ('Type', 'Overhead'), ('Dmg', '9'), ('Block dmg', '1,35'), ('F/Block dmg', '0,0014'), ('Startup', '10'), ('Active', '4'), ('Recovery', '30'), ('Cancel adv.', 'N/A'), ('Hit adv.', '38'), ('Block adv.', '-12'), ('F/Block adv.', '-17'), ('Info', ''), ('Equip', ''), ('Classification', 'Hop Attack')])\n",
      "OrderedDict([('Move', 'Fatal Strike'), ('Input', 'U+2'), ('Type', 'Mid'), ('Dmg', '5'), ('Block dmg', '0,75'), ('F/Block dmg', '0,0008'), ('Startup', '11'), ('Active', '3'), ('Recovery', '26'), ('Cancel adv.', 'N/A'), ('Hit adv.', '50'), ('Block adv.', '-12'), ('F/Block adv.', '-12'), ('Info', 'Can only be performed after being KNOCKED DOWN. Costs 1 bar of Defensive Meter and Offensive Meter.'), ('Equip', ''), ('Classification', 'Getup Attack')])\n",
      "OrderedDict([('Move', 'Karbrac Stab'), ('Input', 'U+3'), ('Type', 'Mid (Inv.)'), ('Dmg', '9'), ('Block dmg', '1,35'), ('F/Block dmg', '0,0014'), ('Startup', '11'), ('Active', '3'), ('Recovery', '22'), ('Cancel adv.', 'N/A'), ('Hit adv.', '14'), ('Block adv.', '-3'), ('F/Block adv.', '-8'), ('Info', 'Can only be performed after being KNOCKED DOWN. Costs 1 bar of Defensive Meter and Offensive Meter.'), ('Equip', ''), ('Classification', 'Getup Attack')])\n",
      "OrderedDict([('Move', 'Fatal Strike'), ('Input', 'U+2'), ('Type', 'Mid'), ('Dmg', '5'), ('Block dmg', '0,75'), ('F/Block dmg', '0,0008'), ('Startup', '11'), ('Active', '3'), ('Recovery', '26'), ('Cancel adv.', 'N/A'), ('Hit adv.', '50'), ('Block adv.', '-12'), ('F/Block adv.', '-12'), ('Info', 'Can only be performed after connecting a FLAWLESS BLOCK. Costs 1 bar of Defensive Meter and Offensive Meter.'), ('Equip', ''), ('Classification', 'Flawless Block Attack')])\n",
      "OrderedDict([('Move', 'Karbrac Stab'), ('Input', 'U+3'), ('Type', 'Mid (Inv.)'), ('Dmg', '9'), ('Block dmg', '1,35'), ('F/Block dmg', '0,0014'), ('Startup', '11'), ('Active', '3'), ('Recovery', '22'), ('Cancel adv.', 'N/A'), ('Hit adv.', '14'), ('Block adv.', '-3'), ('F/Block adv.', '-8'), ('Info', 'Can only be performed after connecting a FLAWLESS BLOCK. Costs 1 bar of Defensive Meter and Offensive Meter.'), ('Equip', ''), ('Classification', 'Flawless Block Attack')])\n",
      "OrderedDict([('Move', 'Toward Throw'), ('Input', 'THROW+F or\\xa0F+1+3'), ('Type', 'Throw'), ('Dmg', '14'), ('Block dmg', 'N/A'), ('F/Block dmg', '0'), ('Startup', '10'), ('Active', '2'), ('Recovery', '34'), ('Cancel adv.', 'N/A'), ('Hit adv.', '18'), ('Block adv.', 'N/A'), ('F/Block adv.', 'N/A'), ('Info', 'KRUSHING BLOW: Triggers if opponent failed THROW ESCAPE during the previous THROW.'), ('Equip', ''), ('Classification', 'Throw')])\n",
      "OrderedDict([('Move', 'Back Throw'), ('Input', 'THROW\\xa0or\\xa01+3'), ('Type', 'Throw'), ('Dmg', '14'), ('Block dmg', 'N/A'), ('F/Block dmg', '0'), ('Startup', '10'), ('Active', '2'), ('Recovery', '34'), ('Cancel adv.', 'N/A'), ('Hit adv.', '18'), ('Block adv.', 'N/A'), ('F/Block adv.', 'N/A'), ('Info', 'KRUSHING BLOW: Triggers if opponent failed THROW ESCAPE during the previous THROW.'), ('Equip', ''), ('Classification', 'Throw')])\n",
      "OrderedDict([('Move', 'Forward Roll Escape'), ('Input', 'F+STANCE'), ('Type', 'N/A (Inv.)'), ('Dmg', 'N/A'), ('Block dmg', 'N/A'), ('F/Block dmg', '0'), ('Startup', '2'), ('Active', 'N/A'), ('Recovery', '5'), ('Cancel adv.', '30'), ('Hit adv.', 'N/A'), ('Block adv.', 'N/A'), ('F/Block adv.', 'N/A'), ('Info', 'Uses 1 bar of Defensive Meter to perform Forward Roll Escape.'), ('Equip', ''), ('Classification', 'Roll Escape')])\n",
      "OrderedDict([('Move', 'Away Roll Escape'), ('Input', 'B+STANCE'), ('Type', 'N/A (Inv.)'), ('Dmg', 'N/A'), ('Block dmg', 'N/A'), ('F/Block dmg', '0'), ('Startup', '2'), ('Active', 'N/A'), ('Recovery', '5'), ('Cancel adv.', '30'), ('Hit adv.', 'N/A'), ('Block adv.', 'N/A'), ('F/Block adv.', 'N/A'), ('Info', 'Uses 1 bar of Defensive Meter to perform Away Roll Escape.'), ('Equip', ''), ('Classification', 'Roll Escape')])\n",
      "OrderedDict([('Move', '(Air) Breakaway'), ('Input', 'D+BLOCK'), ('Type', 'N/A'), ('Dmg', 'N/A'), ('Block dmg', 'N/A'), ('F/Block dmg', 'N/A'), ('Startup', 'N/A'), ('Active', 'N/A'), ('Recovery', 'N/A'), ('Cancel adv.', 'N/A'), ('Hit adv.', 'N/A'), ('Block adv.', 'N/A'), ('F/Block adv.', 'N/A'), ('Info', 'Uses 2 bars of Defensive Meter to perform (Air) Breakaway.'), ('Equip', ''), ('Classification', 'Air Escape')])\n",
      "OrderedDict([('Move', 'Easy Kill'), ('Input', '1,1'), ('Type', 'Mid'), ('Dmg', '3'), ('Block dmg', '0,45'), ('F/Block dmg', '0,0005'), ('Startup', '9'), ('Active', '2'), ('Recovery', '21'), ('Cancel adv.', '15'), ('Hit adv.', '6'), ('Block adv.', '-2'), ('F/Block adv.', '-2'), ('Info', ''), ('Equip', ''), ('Classification', 'Kombo Attack')])\n",
      "OrderedDict([('Move', 'Mangled'), ('Input', '1,1,2'), ('Type', 'Mid'), ('Dmg', '5'), ('Block dmg', '0,75'), ('F/Block dmg', '0,0008'), ('Startup', '17'), ('Active', '2'), ('Recovery', '34'), ('Cancel adv.', '19'), ('Hit adv.', '2'), ('Block adv.', '1'), ('F/Block adv.', '1'), ('Info', ''), ('Equip', ''), ('Classification', 'Kombo Attack')])\n",
      "OrderedDict([('Move', 'Bloodthirsty'), ('Input', '1,2'), ('Type', 'Mid'), ('Dmg', '3'), ('Block dmg', '0,45'), ('F/Block dmg', '0,0005'), ('Startup', '15'), ('Active', '3'), ('Recovery', '26'), ('Cancel adv.', '18'), ('Hit adv.', '10'), ('Block adv.', '-7'), ('F/Block adv.', '-7'), ('Info', ''), ('Equip', ''), ('Classification', 'Kombo Attack')])\n",
      "OrderedDict([('Move', 'Outworld Bash'), ('Input', '1,2,2'), ('Type', 'Overhead'), ('Dmg', '7'), ('Block dmg', '1,05'), ('F/Block dmg', '0,0011'), ('Startup', '23'), ('Active', '2'), ('Recovery', '29'), ('Cancel adv.', 'N/A'), ('Hit adv.', '20'), ('Block adv.', '-4'), ('F/Block adv.', '-4'), ('Info', 'KRUSHING BLOW: Triggers if this KOMBO ATTACK is a PUNISH.'), ('Equip', ''), ('Classification', 'Kombo Attack')])\n",
      "OrderedDict([('Move', 'Splintered'), ('Input', '2,1+3'), ('Type', 'Mid'), ('Dmg', '7'), ('Block dmg', '1,05'), ('F/Block dmg', '0,0011'), ('Startup', '18'), ('Active', '2'), ('Recovery', '24'), ('Cancel adv.', 'N/A'), ('Hit adv.', '49'), ('Block adv.', '1'), ('F/Block adv.', '1'), ('Info', ''), ('Equip', ''), ('Classification', 'Kombo Attack')])\n",
      "OrderedDict([('Move', 'Painful Swipes'), ('Input', 'F+2,1'), ('Type', 'Mid'), ('Dmg', '3'), ('Block dmg', '0,45'), ('F/Block dmg', '0,0005'), ('Startup', '8'), ('Active', '3'), ('Recovery', '27'), ('Cancel adv.', '15'), ('Hit adv.', '5'), ('Block adv.', '-8'), ('F/Block adv.', '-8'), ('Info', ''), ('Equip', ''), ('Classification', 'Kombo Attack')])\n",
      "OrderedDict([('Move', 'Bloody Mess'), ('Input', 'F+2,1,2'), ('Type', 'Mid'), ('Dmg', '7'), ('Block dmg', '1,05'), ('F/Block dmg', '0,0011'), ('Startup', '21'), ('Active', '1'), ('Recovery', '25'), ('Cancel adv.', 'N/A'), ('Hit adv.', '46'), ('Block adv.', '1'), ('F/Block adv.', '-4'), ('Info', ''), ('Equip', ''), ('Classification', 'Kombo Attack')])\n",
      "OrderedDict([('Move', 'Tarkatan Rush'), ('Input', 'B+3,1'), ('Type', 'Mid'), ('Dmg', '3'), ('Block dmg', '0,45'), ('F/Block dmg', '0,0005'), ('Startup', '14'), ('Active', '2'), ('Recovery', '29'), ('Cancel adv.', '17'), ('Hit adv.', '8'), ('Block adv.', '-4'), ('F/Block adv.', '-4'), ('Info', ''), ('Equip', ''), ('Classification', 'Kombo Attack')])\n",
      "OrderedDict([('Move', 'Cutting Loose'), ('Input', 'B+3,1,2'), ('Type', 'Overhead'), ('Dmg', '7'), ('Block dmg', '1,05'), ('F/Block dmg', '0,0011'), ('Startup', '20'), ('Active', '2'), ('Recovery', '31'), ('Cancel adv.', 'N/A'), ('Hit adv.', '37'), ('Block adv.', '-6'), ('F/Block adv.', '-6'), ('Info', ''), ('Equip', ''), ('Classification', 'Kombo Attack')])\n",
      "OrderedDict([('Move', 'Doom Kicks'), ('Input', 'F+4,4'), ('Type', 'Mid'), ('Dmg', '7'), ('Block dmg', '1,05'), ('F/Block dmg', '0,0011'), ('Startup', '6'), ('Active', '3'), ('Recovery', '33'), ('Cancel adv.', 'N/A'), ('Hit adv.', '18'), ('Block adv.', '-7'), ('F/Block adv.', '-7'), ('Info', 'KRUSHING BLOW: Triggers if this KOMBO ATTACK is a KOUNTER or PUNISH.'), ('Equip', ''), ('Classification', 'Kombo Attack')])\n",
      "OrderedDict([('Move', 'Blade Spark'), ('Input', 'DB1'), ('Type', 'High (Projectile)'), ('Dmg', '7'), ('Block dmg', '1,88'), ('F/Block dmg', '0,0019'), ('Startup', '16'), ('Active', 'N/A'), ('Recovery', 'N/A'), ('Cancel adv.', '26'), ('Hit adv.', '4'), ('Block adv.', '-18'), ('F/Block adv.', '-18'), ('Info', ''), ('Equip', ''), ('Classification', 'Special Move')])\n",
      "OrderedDict([('Move', '• Amplify'), ('Input', 'AMP'), ('Type', 'Mid (Projectile)'), ('Dmg', '7'), ('Block dmg', '1,88'), ('F/Block dmg', '0,0019'), ('Startup', '14'), ('Active', 'N/A'), ('Recovery', 'N/A'), ('Cancel adv.', 'N/A'), ('Hit adv.', '8'), ('Block adv.', '-15'), ('F/Block adv.', '-15'), ('Info', ''), ('Equip', ''), ('Classification', 'Special Move')])\n",
      "OrderedDict([('Move', 'Blade Charge'), ('Input', 'BF2'), ('Type', 'Mid'), ('Dmg', '12'), ('Block dmg', '1,37'), ('F/Block dmg', '0,0014'), ('Startup', '16'), ('Active', '4'), ('Recovery', '26'), ('Cancel adv.', 'N/A'), ('Hit adv.', '18'), ('Block adv.', '-13'), ('F/Block adv.', '-13'), ('Info', 'KRUSHING BLOW: Triggers if opponent BLOCKS LATE.'), ('Equip', 'Requires: Blade Charge (*)'), ('Classification', 'Special Move')])\n",
      "OrderedDict([('Move', '• Throw Away'), ('Input', 'Hold\\xa0B'), ('Type', 'N/A'), ('Dmg', '9'), ('Block dmg', 'N/A'), ('F/Block dmg', '0,09'), ('Startup', '54'), ('Active', 'N/A'), ('Recovery', '67'), ('Cancel adv.', 'N/A'), ('Hit adv.', '18'), ('Block adv.', 'N/A'), ('F/Block adv.', 'N/A'), ('Info', ''), ('Equip', 'Requires: Blade Charge (*)'), ('Classification', 'Special Move')])\n",
      "OrderedDict([('Move', 'Blood Lunge'), ('Input', 'BF2'), ('Type', 'Throw'), ('Dmg', '12'), ('Block dmg', 'N/A'), ('F/Block dmg', '0,0014'), ('Startup', '17'), ('Active', '2'), ('Recovery', '32'), ('Cancel adv.', 'N/A'), ('Hit adv.', '18'), ('Block adv.', 'N/A'), ('F/Block adv.', 'N/A'), ('Info', 'KRUSHING BLOW: Triggers if opponent is hit during GETUP ROLL.'), ('Equip', 'Requires: Blood Lunge (**)'), ('Classification', 'Special Move')])\n",
      "OrderedDict([('Move', 'Chop Chop'), ('Input', 'DB3'), ('Type', 'Mid'), ('Dmg', '20,81'), ('Block dmg', '10,83'), ('F/Block dmg', '0,0025'), ('Startup', '13'), ('Active', '78'), ('Recovery', '31'), ('Cancel adv.', 'N/A'), ('Hit adv.', '9'), ('Block adv.', '-17'), ('F/Block adv.', '-17'), ('Info', ''), ('Equip', ''), ('Classification', 'Special Move')])\n",
      "OrderedDict([('Move', '• Extend'), ('Input', '3\\xa0Rapidly'), ('Type', 'N/A'), ('Dmg', 'N/A'), ('Block dmg', 'N/A'), ('F/Block dmg', 'N/A'), ('Startup', 'N/A'), ('Active', 'N/A'), ('Recovery', 'N/A'), ('Cancel adv.', 'N/A'), ('Hit adv.', 'N/A'), ('Block adv.', 'N/A'), ('F/Block adv.', 'N/A'), ('Info', ''), ('Equip', ''), ('Classification', 'Special Move')])\n",
      "OrderedDict([('Move', '• Amplify'), ('Input', 'AMP'), ('Type', 'N/A'), ('Dmg', 'N/A'), ('Block dmg', 'N/A'), ('F/Block dmg', 'N/A'), ('Startup', 'N/A'), ('Active', 'N/A'), ('Recovery', 'N/A'), ('Cancel adv.', 'N/A'), ('Hit adv.', 'N/A'), ('Block adv.', 'N/A'), ('F/Block adv.', 'N/A'), ('Info', ''), ('Equip', ''), ('Classification', 'Special Move')])\n",
      "OrderedDict([('Move', '• Further Amplify'), ('Input', 'AMP'), ('Type', 'N/A'), ('Dmg', 'N/A'), ('Block dmg', 'N/A'), ('F/Block dmg', 'N/A'), ('Startup', 'N/A'), ('Active', 'N/A'), ('Recovery', 'N/A'), ('Cancel adv.', 'N/A'), ('Hit adv.', 'N/A'), ('Block adv.', 'N/A'), ('F/Block adv.', 'N/A'), ('Info', ''), ('Equip', ''), ('Classification', 'Special Move')])\n",
      "OrderedDict([('Move', 'Spine Burst'), ('Input', 'DB3'), ('Type', 'High'), ('Dmg', '9'), ('Block dmg', '2,13'), ('F/Block dmg', '0,0021'), ('Startup', '9'), ('Active', '16'), ('Recovery', '18'), ('Cancel adv.', 'N/A'), ('Hit adv.', '34'), ('Block adv.', '-7'), ('F/Block adv.', '-7'), ('Info', ''), ('Equip', 'Requires: Spine Burst (*)'), ('Classification', 'Special Move')])\n",
      "OrderedDict([('Move', 'Leg Kabob'), ('Input', 'BF4'), ('Type', 'Low'), ('Dmg', '7,48'), ('Block dmg', '1,88'), ('F/Block dmg', '0,0019'), ('Startup', '18'), ('Active', '2'), ('Recovery', '31'), ('Cancel adv.', '27'), ('Hit adv.', '19'), ('Block adv.', '-7'), ('F/Block adv.', '-7'), ('Info', ''), ('Equip', 'Requires: Leg Kabob (*)'), ('Classification', 'Special Move')])\n",
      "OrderedDict([('Move', '• Amplify'), ('Input', 'AMP'), ('Type', 'N/A'), ('Dmg', '8'), ('Block dmg', 'N/A'), ('F/Block dmg', '0,08'), ('Startup', '1'), ('Active', 'N/A'), ('Recovery', '121'), ('Cancel adv.', 'N/A'), ('Hit adv.', '18'), ('Block adv.', 'N/A'), ('F/Block adv.', 'N/A'), ('Info', 'KRUSHING BLOW: Triggers if opponent is STAND BLOCKING.'), ('Equip', 'Requires: Leg Kabob (*)'), ('Classification', 'Special Move')])\n",
      "OrderedDict([('Move', '• Throw Away'), ('Input', 'AMP Hold B'), ('Type', 'N/A'), ('Dmg', '3'), ('Block dmg', 'N/A'), ('F/Block dmg', '0,03'), ('Startup', '36'), ('Active', 'N/A'), ('Recovery', '86'), ('Cancel adv.', 'N/A'), ('Hit adv.', '18'), ('Block adv.', 'N/A'), ('F/Block adv.', 'N/A'), ('Info', ''), ('Equip', 'Requires: Leg Kabob (*)'), ('Classification', 'Special Move')])\n",
      "OrderedDict([('Move', 'Gutted'), ('Input', 'BF4'), ('Type', 'Mid'), ('Dmg', '12'), ('Block dmg', '1,37'), ('F/Block dmg', '0,0014'), ('Startup', '14'), ('Active', '2'), ('Recovery', '27'), ('Cancel adv.', '86'), ('Hit adv.', '43'), ('Block adv.', '-18'), ('F/Block adv.', '-18'), ('Info', 'KRUSHING BLOW: Triggers in a KOMBO of 9 or more.'), ('Equip', 'Requires: Gutted (**)'), ('Classification', 'Special Move')])\n",
      "OrderedDict([('Move', '• Amplify'), ('Input', 'AMP'), ('Type', 'N/A'), ('Dmg', '5,42'), ('Block dmg', 'N/A'), ('F/Block dmg', '0,0542'), ('Startup', '1'), ('Active', 'N/A'), ('Recovery', '52'), ('Cancel adv.', 'N/A'), ('Hit adv.', '66'), ('Block adv.', 'N/A'), ('F/Block adv.', 'N/A'), ('Info', ''), ('Equip', 'Requires: Gutted (**)'), ('Classification', 'Special Move')])\n",
      "OrderedDict([('Move', 'Baraka-Serker'), ('Input', 'BF3'), ('Type', 'Mid'), ('Dmg', '12,84'), ('Block dmg', '5,75'), ('F/Block dmg', '0,0018'), ('Startup', '10'), ('Active', '54'), ('Recovery', '39'), ('Cancel adv.', '46'), ('Hit adv.', '29'), ('Block adv.', '-14'), ('F/Block adv.', '-14'), ('Info', ''), ('Equip', 'Requires: Baraka-Serker (*)'), ('Classification', 'Special Move')])\n",
      "OrderedDict([('Move', '• Amplify'), ('Input', 'AMP or AMP Hold B'), ('Type', 'Mid'), ('Dmg', '12'), ('Block dmg', '1,37'), ('F/Block dmg', '0,0014'), ('Startup', '16'), ('Active', '4'), ('Recovery', '26'), ('Cancel adv.', 'N/A'), ('Hit adv.', '18'), ('Block adv.', '-13'), ('F/Block adv.', '-13'), ('Info', 'KRUSHING BLOW: Triggers if opponent BLOCKS LATE. Requires Blade Charge equipped.'), ('Equip', 'Requires: Baraka-Serker (*)'), ('Classification', 'Special Move')])\n",
      "OrderedDict([('Move', 'War Banner'), ('Input', 'DB4'), ('Type', 'N/A (Buff - Damage)'), ('Dmg', 'N/A'), ('Block dmg', 'N/A'), ('F/Block dmg', '0'), ('Startup', '1'), ('Active', 'N/A'), ('Recovery', '60'), ('Cancel adv.', 'N/A'), ('Hit adv.', 'N/A'), ('Block adv.', 'N/A'), ('F/Block adv.', 'N/A'), ('Info', ''), ('Equip', ''), ('Classification', 'Special Move')])\n",
      "OrderedDict([('Move', 'War Banner Bash'), ('Input', 'DB4'), ('Type', 'Mid (Buff - Damage)'), ('Dmg', '7'), ('Block dmg', '1,88'), ('F/Block dmg', '0,0019'), ('Startup', '27'), ('Active', '2'), ('Recovery', '54'), ('Cancel adv.', 'N/A'), ('Hit adv.', '15'), ('Block adv.', '-19'), ('F/Block adv.', '-19'), ('Info', ''), ('Equip', 'Requires: War Banner Bash (*)'), ('Classification', 'Special Move')])\n",
      "OrderedDict([('Move', '• Staked'), ('Input', 'DB4'), ('Type', 'Low'), ('Dmg', '21'), ('Block dmg', '2,13'), ('F/Block dmg', '0,0021'), ('Startup', '28'), ('Active', '2'), ('Recovery', '31'), ('Cancel adv.', 'N/A'), ('Hit adv.', '18'), ('Block adv.', '6'), ('F/Block adv.', '6'), ('Info', ''), ('Equip', 'Requires: Staked (*)'), ('Classification', 'Special Move')])\n",
      "OrderedDict([('Move', '• War Banner Charge'), ('Input', 'BF3'), ('Type', 'Mid (Armor - Multiple)'), ('Dmg', '12'), ('Block dmg', '2,5'), ('F/Block dmg', '0,0025'), ('Startup', '46'), ('Active', '75'), ('Recovery', '51'), ('Cancel adv.', '28'), ('Hit adv.', '14'), ('Block adv.', '-13'), ('F/Block adv.', '-13'), ('Info', ''), ('Equip', 'Requires: War Banner Charge (*)'), ('Classification', 'Special Move')])\n",
      "OrderedDict([('Move', '• Cancel'), ('Input', 'DD'), ('Type', 'N/A'), ('Dmg', 'N/A'), ('Block dmg', 'N/A'), ('F/Block dmg', '0'), ('Startup', '1'), ('Active', 'N/A'), ('Recovery', '19'), ('Cancel adv.', 'N/A'), ('Hit adv.', 'N/A'), ('Block adv.', 'N/A'), ('F/Block adv.', 'N/A'), ('Info', ''), ('Equip', 'Requires: War Banner Charge (*)'), ('Classification', 'Special Move')])\n",
      "OrderedDict([('Move', 'Fatal Blow'), ('Input', ''), ('Type', ''), ('Dmg', ''), ('Block dmg', ''), ('F/Block dmg', ''), ('Startup', ''), ('Active', ''), ('Recovery', ''), ('Cancel adv.', ''), ('Hit adv.', ''), ('Block adv.', ''), ('F/Block adv.', ''), ('Info', ''), ('Equip', ''), ('Classification', 'Special Move')])\n",
      "OrderedDict([('Move', 'Skewered'), ('Input', 'STANCE+BLOCK'), ('Type', 'Mid (Armor - 1 Hit, Buff - Damage)'), ('Dmg', '31'), ('Block dmg', '1,5'), ('F/Block dmg', '0,0015'), ('Startup', '13'), ('Active', '4'), ('Recovery', '42'), ('Cancel adv.', 'N/A'), ('Hit adv.', '18'), ('Block adv.', '-24'), ('F/Block adv.', '-29'), ('Info', ''), ('Equip', ''), ('Classification', 'Special Move')])\n",
      "OrderedDict([('Move', 'Food For Thought (Close)\\xa0'), ('Input', 'BDB2'), ('Type', ''), ('Dmg', ''), ('Block dmg', ''), ('F/Block dmg', ''), ('Startup', ''), ('Active', ''), ('Recovery', ''), ('Cancel adv.', ''), ('Hit adv.', ''), ('Block adv.', ''), ('F/Block adv.', ''), ('Info', ''), ('Equip', ''), ('Classification', 'Fatality')])\n",
      "OrderedDict([('Move', 'Rock, Paper, Baraka (Close)'), ('Input', 'BFB3'), ('Type', ''), ('Dmg', ''), ('Block dmg', ''), ('F/Block dmg', ''), ('Startup', ''), ('Active', ''), ('Recovery', ''), ('Cancel adv.', ''), ('Hit adv.', ''), ('Block adv.', ''), ('F/Block adv.', ''), ('Info', ''), ('Equip', ''), ('Classification', 'Fatality')])\n"
     ]
    }
   ],
   "source": [
    "dict_run()"
   ]
  },
  {
   "cell_type": "code",
   "execution_count": null,
   "metadata": {},
   "outputs": [],
   "source": []
  }
 ],
 "metadata": {
  "kernelspec": {
   "display_name": "Python 3",
   "language": "python",
   "name": "python3"
  },
  "language_info": {
   "codemirror_mode": {
    "name": "ipython",
    "version": 3
   },
   "file_extension": ".py",
   "mimetype": "text/x-python",
   "name": "python",
   "nbconvert_exporter": "python",
   "pygments_lexer": "ipython3",
   "version": "3.6.1"
  }
 },
 "nbformat": 4,
 "nbformat_minor": 2
}
