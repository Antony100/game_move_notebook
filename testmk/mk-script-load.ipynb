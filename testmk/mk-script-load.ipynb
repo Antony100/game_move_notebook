{
 "cells": [
  {
   "cell_type": "code",
   "execution_count": 1,
   "metadata": {},
   "outputs": [],
   "source": [
    "import csv"
   ]
  },
  {
   "cell_type": "code",
   "execution_count": 3,
   "metadata": {},
   "outputs": [],
   "source": [
    "def dict_run():   \n",
    "    file_name = '/home/tony/code/test_mk/Baraka-mod.csv'\n",
    "\n",
    "    with open(file_name) as csvfile:\n",
    "        reader = csv.DictReader(csvfile)\n",
    "        \n",
    "        for row in reader:\n",
    "            print(row['F/Block dmg'])"
   ]
  },
  {
   "cell_type": "code",
   "execution_count": 4,
   "metadata": {},
   "outputs": [
    {
     "name": "stdout",
     "output_type": "stream",
     "text": [
      "0,0003\n",
      "0,0003\n",
      "0,0003\n",
      "0,0005\n",
      "0,0011\n",
      "0,0008\n",
      "0,0021\n",
      "0,0008\n",
      "0,0005\n",
      "0,0002\n",
      "0,0002\n",
      "0,0011\n",
      "0,0011\n",
      "0,0008\n",
      "0,0005\n",
      "0,0008\n",
      "0,0008\n",
      "0,0011\n",
      "0,0014\n",
      "0,0014\n",
      "0,0014\n",
      "0,0008\n",
      "0,0014\n",
      "0,0008\n",
      "0,0014\n",
      "0\n",
      "0\n",
      "0\n",
      "0\n",
      "N/A\n",
      "0,0005\n",
      "0,0008\n",
      "0,0005\n",
      "0,0011\n",
      "0,0011\n",
      "0,0005\n",
      "0,0011\n",
      "0,0005\n",
      "0,0011\n",
      "0,0011\n",
      "0,0019\n",
      "0,0019\n",
      "0,0014\n",
      "0,09\n",
      "0,0014\n",
      "0,0025\n",
      "N/A\n",
      "N/A\n",
      "N/A\n",
      "0,0021\n",
      "0,0019\n",
      "0,08\n",
      "0,03\n",
      "0,0014\n",
      "0,0542\n",
      "0,0018\n",
      "0,0014\n",
      "0\n",
      "0,0019\n",
      "0,0021\n",
      "0,0025\n",
      "0\n",
      "\n",
      "0,0015\n",
      "\n",
      "\n"
     ]
    }
   ],
   "source": [
    "dict_run()"
   ]
  },
  {
   "cell_type": "code",
   "execution_count": null,
   "metadata": {},
   "outputs": [],
   "source": []
  }
 ],
 "metadata": {
  "kernelspec": {
   "display_name": "Python 3",
   "language": "python",
   "name": "python3"
  },
  "language_info": {
   "codemirror_mode": {
    "name": "ipython",
    "version": 3
   },
   "file_extension": ".py",
   "mimetype": "text/x-python",
   "name": "python",
   "nbconvert_exporter": "python",
   "pygments_lexer": "ipython3",
   "version": "3.6.1"
  }
 },
 "nbformat": 4,
 "nbformat_minor": 2
}
